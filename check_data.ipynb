{
 "cells": [
  {
   "cell_type": "code",
   "execution_count": 1,
   "id": "913acb53-106d-442b-8f9b-d150ce43aa24",
   "metadata": {},
   "outputs": [],
   "source": [
    "from pyspark.sql import SparkSession\n",
    "spark = SparkSession.builder.appName('IMDB_reviews_BDT').getOrCreate()"
   ]
  },
  {
   "cell_type": "code",
   "execution_count": 2,
   "id": "a6c21047-2028-4fd1-9974-f3d032fa5798",
   "metadata": {},
   "outputs": [],
   "source": [
    "from pyspark.sql.types import StructType, StructField, StringType, IntegerType, TimestampType, BooleanType, ArrayType"
   ]
  },
  {
   "cell_type": "code",
   "execution_count": 3,
   "id": "05982c96-ad02-4ab0-9856-52095fad700c",
   "metadata": {},
   "outputs": [],
   "source": [
    "columns = []\n",
    "columns.append(StructField('review_id', StringType(), True))\n",
    "columns.append(StructField('reviewer', StringType(), True))\n",
    "columns.append(StructField('movie', StringType(), True))\n",
    "columns.append(StructField('rating', IntegerType(), True))\n",
    "columns.append(StructField('review_summary', StringType(), True))\n",
    "columns.append(StructField('review_date', TimestampType(), True))\n",
    "columns.append(StructField('spoiler_tag', BooleanType(), True))\n",
    "columns.append(StructField('review_detail', StringType(), True))\n",
    "columns.append(StructField('helpful', StringType(), True))"
   ]
  },
  {
   "cell_type": "code",
   "execution_count": 4,
   "id": "b6f30e30-f0e9-43a2-ac0f-86f65484a04b",
   "metadata": {},
   "outputs": [],
   "source": [
    "schema = StructType(fields=columns)"
   ]
  },
  {
   "cell_type": "markdown",
   "id": "ee082b79-3e62-4ce9-8a4b-459e4b44f95e",
   "metadata": {
    "jp-MarkdownHeadingCollapsed": true
   },
   "source": [
    "# Original CSV"
   ]
  },
  {
   "cell_type": "code",
   "execution_count": null,
   "id": "309b33ca-1afd-464e-83ea-54a45c577a2c",
   "metadata": {},
   "outputs": [],
   "source": [
    "df_original = spark.read.csv(\"reviews.csv\", header=True, schema=schema)"
   ]
  },
  {
   "cell_type": "code",
   "execution_count": null,
   "id": "4e3190ec-51fe-45ba-9b9d-a8d44d961ac8",
   "metadata": {},
   "outputs": [],
   "source": [
    "df_original.printSchema()"
   ]
  },
  {
   "cell_type": "code",
   "execution_count": null,
   "id": "f03765a1-408e-4fac-80e7-8af3ff5befad",
   "metadata": {},
   "outputs": [],
   "source": [
    "df_original.show(3)"
   ]
  },
  {
   "cell_type": "code",
   "execution_count": null,
   "id": "8f87de8a-3ddb-471b-9063-1cfa4f95cb9a",
   "metadata": {},
   "outputs": [],
   "source": [
    "df_original.columns"
   ]
  },
  {
   "cell_type": "code",
   "execution_count": null,
   "id": "ee6e7854-3b69-42ca-8eff-a606680e53f0",
   "metadata": {},
   "outputs": [],
   "source": [
    "df_original.count()"
   ]
  },
  {
   "cell_type": "code",
   "execution_count": null,
   "id": "80cc1112-ecee-4444-9be7-06763ec6106d",
   "metadata": {},
   "outputs": [],
   "source": [
    "df_original.select('movie').show(5)"
   ]
  },
  {
   "cell_type": "code",
   "execution_count": null,
   "id": "aac8fc8c-0d96-401d-8a0c-3fdd853ecf52",
   "metadata": {},
   "outputs": [],
   "source": [
    "df_original.select(['reviewer', 'movie', 'rating']).show(7)"
   ]
  },
  {
   "cell_type": "markdown",
   "id": "d43ac67c-1bad-46ee-b227-fa59626e563d",
   "metadata": {},
   "source": [
    "Drop rows where are missing values"
   ]
  },
  {
   "cell_type": "code",
   "execution_count": null,
   "id": "75d1ce30-953d-4dc6-ad76-b3e213445d35",
   "metadata": {},
   "outputs": [],
   "source": [
    "df1 = df_original.na.drop(subset=['movie']) # if any of the columns in the subset is null, the row is dropped"
   ]
  },
  {
   "cell_type": "code",
   "execution_count": null,
   "id": "cf0b8136-5d8d-4cc5-91a5-a885d73cf7f2",
   "metadata": {},
   "outputs": [],
   "source": [
    "df1.select('movie').show(5)"
   ]
  },
  {
   "cell_type": "code",
   "execution_count": null,
   "id": "63df58a2-e62c-4dcb-b066-0880012147b3",
   "metadata": {},
   "outputs": [],
   "source": [
    "df1.count() # - 1,011,481 rows"
   ]
  },
  {
   "cell_type": "code",
   "execution_count": null,
   "id": "45cfe335-c89b-4bb5-929b-f84b9cbcfcb9",
   "metadata": {},
   "outputs": [],
   "source": [
    "df2 = df1.na.drop(subset=['review_detail']) # if any of the columns in the subset is null, the row is dropped"
   ]
  },
  {
   "cell_type": "code",
   "execution_count": null,
   "id": "e287f802-9d37-491a-a0b3-7a1fc05610e7",
   "metadata": {},
   "outputs": [],
   "source": [
    "df2.count() # - 829,429 rows"
   ]
  },
  {
   "cell_type": "code",
   "execution_count": null,
   "id": "a63a4274-1cf6-4659-9464-f354f1b33cb6",
   "metadata": {},
   "outputs": [],
   "source": [
    "df3 = df2.na.drop(subset=['review_summary']) # if any of the columns in the subset is null, the row is dropped"
   ]
  },
  {
   "cell_type": "code",
   "execution_count": null,
   "id": "25d00b92-1f62-4a8e-985f-7cfe0eadb7b5",
   "metadata": {},
   "outputs": [],
   "source": [
    "df3.count() # - 92 rows"
   ]
  },
  {
   "cell_type": "code",
   "execution_count": null,
   "id": "3cd915ce-1119-47fe-abe7-eb87c7c535e6",
   "metadata": {},
   "outputs": [],
   "source": [
    "df_drop = df3.na.drop(subset=['rating']) # if any of the columns in the subset is null, the row is dropped"
   ]
  },
  {
   "cell_type": "code",
   "execution_count": null,
   "id": "8bb344c2-83dc-429c-b45d-f820e74dd456",
   "metadata": {},
   "outputs": [],
   "source": [
    "df_drop.count() # - 878,822 rows"
   ]
  },
  {
   "cell_type": "code",
   "execution_count": null,
   "id": "6c4227b4-23ab-4d4f-b220-c6ba08f5ec0b",
   "metadata": {},
   "outputs": [],
   "source": [
    "df_drop.orderBy(df_drop['reviewer'].desc()).show()"
   ]
  },
  {
   "cell_type": "code",
   "execution_count": null,
   "id": "b13a72ac-f1f0-4511-88de-4c93e3ba5c65",
   "metadata": {},
   "outputs": [],
   "source": [
    "# Save the resulting DataFrame to a CSV file\n",
    "output_path = 'review_drop_1.csv'\n",
    "df_drop.write.csv(output_path, header=True, mode='overwrite')"
   ]
  },
  {
   "cell_type": "markdown",
   "id": "9ef17f1f-609f-449c-a91d-89d6e7fb6965",
   "metadata": {},
   "source": [
    "# After Droping CSV\n"
   ]
  },
  {
   "cell_type": "code",
   "execution_count": 5,
   "id": "e12ff088-2397-4d7b-a0b2-86ef2285cdcf",
   "metadata": {},
   "outputs": [],
   "source": [
    "df_drop = spark.read.csv(\"review_drop.csv\", header=True, schema=schema)"
   ]
  },
  {
   "cell_type": "code",
   "execution_count": 6,
   "id": "223057f0-6888-4de0-8353-ab75a846c305",
   "metadata": {},
   "outputs": [
    {
     "name": "stdout",
     "output_type": "stream",
     "text": [
      "+---------+---------+--------------------+------+--------------------+-----------+-----------+--------------------+------------+\n",
      "|review_id| reviewer|               movie|rating|      review_summary|review_date|spoiler_tag|       review_detail|     helpful|\n",
      "+---------+---------+--------------------+------+--------------------+-----------+-----------+--------------------+------------+\n",
      "|rw0420294|    ángel|The Horse Whisper...|     3|The kiss of the h...|       NULL|       NULL|\"In this film a h...|  ['2', '7']|\n",
      "|rw0473637|    ángel|The Thin Red Line...|     9|            the best|       NULL|       NULL|Such a simple thi...|  ['0', '0']|\n",
      "|rw0438715|    ángel|The Truman Show (...|     7|God is a T.V. pro...|       NULL|       NULL|The beginning (fi...|  ['0', '0']|\n",
      "|rw0351091|Øystein-3|      Timecop (1994)|    10|Van Damme as we w...|       NULL|       NULL|This isn't at all...|['13', '18']|\n",
      "|rw0054257|Øystein-3|American Farmers ...|     5|American farmers ...|       NULL|       NULL|This movie is a q...|        NULL|\n",
      "|rw0393232|Øystein-3|       Pusher (1996)|    10|  Thats a good movie|       NULL|       NULL|This movie is exc...|  ['2', '5']|\n",
      "|rw0571093|Øystein-3| American Pie (1999)|     1|Over rated predic...|       NULL|       NULL|My oh my, predict...| ['7', '15']|\n",
      "|rw0469526|Øystein-3|Saving Private Ry...|     9|Extremely overrat...|       NULL|       NULL|My oh my, Spielbe...|  ['0', '0']|\n",
      "|rw0443349|Øystein-3|   Armageddon (1998)|     1|Superlatives isn'...|       NULL|       NULL|Standing Applause...|        NULL|\n",
      "|rw0591859| ÇåtWømåñ|American Beauty (...|    10|                 wow|       NULL|       NULL|American Beauty w...|        NULL|\n",
      "+---------+---------+--------------------+------+--------------------+-----------+-----------+--------------------+------------+\n",
      "only showing top 10 rows\n",
      "\n"
     ]
    }
   ],
   "source": [
    "df_drop.orderBy(df_drop['reviewer'].desc()).show(10)"
   ]
  },
  {
   "cell_type": "markdown",
   "id": "46213eb1-9d14-48f2-88a1-97a554644242",
   "metadata": {},
   "source": [
    "\n",
    "### Add Bool Ratings Column"
   ]
  },
  {
   "cell_type": "code",
   "execution_count": 7,
   "id": "ccd3c4d9-e629-4657-8550-faca3b34e647",
   "metadata": {},
   "outputs": [],
   "source": [
    "from pyspark.sql import functions as F"
   ]
  },
  {
   "cell_type": "code",
   "execution_count": 8,
   "id": "f815fcda-0ca8-4dd3-b7f6-e989a3cbe95f",
   "metadata": {},
   "outputs": [],
   "source": [
    "df = df_drop.withColumn('ratingboolpos', F.when(df_drop.rating >= 7, 1).otherwise(0))"
   ]
  },
  {
   "cell_type": "code",
   "execution_count": 9,
   "id": "71d97fbb-3b34-4f6b-b1b5-18e11b3ce112",
   "metadata": {},
   "outputs": [
    {
     "name": "stdout",
     "output_type": "stream",
     "text": [
      "+---------+---------+--------------------+------+--------------------+-----------+-----------+--------------------+------------+-------------+\n",
      "|review_id| reviewer|               movie|rating|      review_summary|review_date|spoiler_tag|       review_detail|     helpful|ratingboolpos|\n",
      "+---------+---------+--------------------+------+--------------------+-----------+-----------+--------------------+------------+-------------+\n",
      "|rw0420294|    ángel|The Horse Whisper...|     3|The kiss of the h...|       NULL|       NULL|\"In this film a h...|  ['2', '7']|            0|\n",
      "|rw0473637|    ángel|The Thin Red Line...|     9|            the best|       NULL|       NULL|Such a simple thi...|  ['0', '0']|            1|\n",
      "|rw0438715|    ángel|The Truman Show (...|     7|God is a T.V. pro...|       NULL|       NULL|The beginning (fi...|  ['0', '0']|            1|\n",
      "|rw0054257|Øystein-3|American Farmers ...|     5|American farmers ...|       NULL|       NULL|This movie is a q...|        NULL|            0|\n",
      "|rw0351091|Øystein-3|      Timecop (1994)|    10|Van Damme as we w...|       NULL|       NULL|This isn't at all...|['13', '18']|            1|\n",
      "|rw0571093|Øystein-3| American Pie (1999)|     1|Over rated predic...|       NULL|       NULL|My oh my, predict...| ['7', '15']|            0|\n",
      "|rw0393232|Øystein-3|       Pusher (1996)|    10|  Thats a good movie|       NULL|       NULL|This movie is exc...|  ['2', '5']|            1|\n",
      "|rw0469526|Øystein-3|Saving Private Ry...|     9|Extremely overrat...|       NULL|       NULL|My oh my, Spielbe...|  ['0', '0']|            1|\n",
      "|rw0443349|Øystein-3|   Armageddon (1998)|     1|Superlatives isn'...|       NULL|       NULL|Standing Applause...|        NULL|            0|\n",
      "|rw0591859| ÇåtWømåñ|American Beauty (...|    10|                 wow|       NULL|       NULL|American Beauty w...|        NULL|            1|\n",
      "+---------+---------+--------------------+------+--------------------+-----------+-----------+--------------------+------------+-------------+\n",
      "only showing top 10 rows\n",
      "\n"
     ]
    }
   ],
   "source": [
    "df.orderBy(df['reviewer'].desc()).show(10)"
   ]
  },
  {
   "cell_type": "markdown",
   "id": "afd58824-f320-4e57-9698-59fc60427922",
   "metadata": {},
   "source": [
    "# Text Preprocessing"
   ]
  },
  {
   "cell_type": "code",
   "execution_count": 10,
   "id": "71c6aab0-56e8-4db3-a011-97f4269d2233",
   "metadata": {},
   "outputs": [],
   "source": [
    "# Initialize SparkSession\n",
    "spark = SparkSession.builder \\\n",
    "    .appName(\"TextPreprocessing\") \\\n",
    "    .config(\"spark.executor.instances\", \"2\") \\\n",
    "    .getOrCreate()"
   ]
  },
  {
   "cell_type": "code",
   "execution_count": 11,
   "id": "05014855-c508-4e30-837d-c4133d51197a",
   "metadata": {},
   "outputs": [
    {
     "name": "stdout",
     "output_type": "stream",
     "text": [
      "Collecting nltk\n",
      "  Downloading nltk-3.8.1-py3-none-any.whl.metadata (2.8 kB)\n",
      "Requirement already satisfied: click in /opt/conda/lib/python3.11/site-packages (from nltk) (8.1.7)\n",
      "Requirement already satisfied: joblib in /opt/conda/lib/python3.11/site-packages (from nltk) (1.3.2)\n",
      "Collecting regex>=2021.8.3 (from nltk)\n",
      "  Downloading regex-2024.5.15-cp311-cp311-manylinux_2_17_x86_64.manylinux2014_x86_64.whl.metadata (40 kB)\n",
      "\u001b[2K     \u001b[90m━━━━━━━━━━━━━━━━━━━━━━━━━━━━━━━━━━━━━━━\u001b[0m \u001b[32m40.9/40.9 kB\u001b[0m \u001b[31m930.4 kB/s\u001b[0m eta \u001b[36m0:00:00\u001b[0m\n",
      "\u001b[?25hRequirement already satisfied: tqdm in /opt/conda/lib/python3.11/site-packages (from nltk) (4.66.1)\n",
      "Downloading nltk-3.8.1-py3-none-any.whl (1.5 MB)\n",
      "\u001b[2K   \u001b[90m━━━━━━━━━━━━━━━━━━━━━━━━━━━━━━━━━━━━━━━━\u001b[0m \u001b[32m1.5/1.5 MB\u001b[0m \u001b[31m12.8 MB/s\u001b[0m eta \u001b[36m0:00:00\u001b[0m00:01\u001b[0m0:01\u001b[0m\n",
      "\u001b[?25hDownloading regex-2024.5.15-cp311-cp311-manylinux_2_17_x86_64.manylinux2014_x86_64.whl (785 kB)\n",
      "\u001b[2K   \u001b[90m━━━━━━━━━━━━━━━━━━━━━━━━━━━━━━━━━━━━━━━━\u001b[0m \u001b[32m785.0/785.0 kB\u001b[0m \u001b[31m17.5 MB/s\u001b[0m eta \u001b[36m0:00:00\u001b[0ma \u001b[36m0:00:01\u001b[0m\n",
      "\u001b[?25hInstalling collected packages: regex, nltk\n",
      "Successfully installed nltk-3.8.1 regex-2024.5.15\n"
     ]
    }
   ],
   "source": [
    "! pip install nltk"
   ]
  },
  {
   "cell_type": "code",
   "execution_count": 12,
   "id": "43b11b90-3b4c-456f-9c6f-4bde5b042f86",
   "metadata": {},
   "outputs": [
    {
     "name": "stderr",
     "output_type": "stream",
     "text": [
      "[nltk_data] Downloading package punkt to /home/jovyan/nltk_data...\n",
      "[nltk_data]   Unzipping tokenizers/punkt.zip.\n",
      "[nltk_data] Downloading package stopwords to /home/jovyan/nltk_data...\n",
      "[nltk_data]   Unzipping corpora/stopwords.zip.\n",
      "[nltk_data] Downloading package wordnet to /home/jovyan/nltk_data...\n"
     ]
    },
    {
     "data": {
      "text/plain": [
       "True"
      ]
     },
     "execution_count": 12,
     "metadata": {},
     "output_type": "execute_result"
    }
   ],
   "source": [
    "import nltk\n",
    "nltk.download('punkt')\n",
    "nltk.download('stopwords')\n",
    "nltk.download('wordnet')"
   ]
  },
  {
   "cell_type": "code",
   "execution_count": 13,
   "id": "b8c48361-1c7d-47c0-9c9f-9679acabda92",
   "metadata": {},
   "outputs": [],
   "source": [
    "import re\n",
    "import time\n",
    "import string\n",
    "from pyspark.sql.functions import col, udf, explode\n",
    "from pyspark.sql.types import StringType, ArrayType\n",
    "from nltk.tokenize import word_tokenize\n",
    "from nltk.corpus import stopwords\n",
    "from nltk.stem import WordNetLemmatizer"
   ]
  },
  {
   "cell_type": "code",
   "execution_count": 14,
   "id": "dde322c6-93b7-45e0-9e69-6af0a1edb25a",
   "metadata": {},
   "outputs": [],
   "source": [
    "# Initialize lemmatizer and stop words\n",
    "lemmatizer = WordNetLemmatizer()\n",
    "stop_words = set(stopwords.words('english'))"
   ]
  },
  {
   "cell_type": "code",
   "execution_count": 15,
   "id": "a626b83a-c793-44f1-8315-1ba3307f4bc0",
   "metadata": {},
   "outputs": [],
   "source": [
    "@udf(returnType=ArrayType(StringType()))\n",
    "def tokenize_words(text):\n",
    "    if text is not None:\n",
    "        return word_tokenize(text)\n",
    "    else:\n",
    "        return []\n",
    "\n",
    "@udf(returnType=ArrayType(StringType()))\n",
    "def remove_punctuation(words):\n",
    "    translator = str.maketrans('', '', string.punctuation)\n",
    "    return [word.translate(translator) for word in words]\n",
    "    \n",
    "@udf(returnType=ArrayType(StringType()))\n",
    "def to_lowercase(words):\n",
    "    return [x.lower() for x in words]\n",
    "\n",
    "@udf(returnType=ArrayType(StringType()))\n",
    "def remove_numbers(words):\n",
    "    return [x for x in words if not x.isdigit()]\n",
    "\n",
    "@udf(returnType=ArrayType(StringType()))\n",
    "def remove_stopwords(words):\n",
    "    return [x for x in words if x not in stop_words]\n",
    "\n",
    "@udf(returnType=ArrayType(StringType()))\n",
    "def lemmatize_words(words):\n",
    "    return [lemmatizer.lemmatize(x) for x in words]\n",
    "\n",
    "@udf(returnType=StringType())\n",
    "def join_words(words):\n",
    "    return \" \".join(words)"
   ]
  },
  {
   "cell_type": "code",
   "execution_count": 16,
   "id": "7554428b-ff5b-4863-a080-0db6497488f8",
   "metadata": {},
   "outputs": [],
   "source": [
    "# Define UDF for removing frequent words\n",
    "@udf(returnType=ArrayType(StringType()))\n",
    "def remove_frequent_words(words, frequent_words):\n",
    "    return [word for word in words if word not in frequent_words]\n"
   ]
  },
  {
   "cell_type": "code",
   "execution_count": 17,
   "id": "d7fa1328-d2b5-4d70-8b88-4f842599d962",
   "metadata": {},
   "outputs": [],
   "source": [
    "def preprocess_data(df_preprocess, suf):\n",
    "    start_time = time.time()\n",
    "    \n",
    "    # Apply transformations to 'review_summary' column\n",
    "    df_preprocess_tokenize = df_preprocess.withColumn(f\"{suf}_tokenize\", tokenize_words(col(f\"{suf}\")))\n",
    "    df_preprocess_punctuation = df_preprocess_tokenize.withColumn(f\"{suf}_punctuation\", remove_punctuation(col(f\"{suf}_tokenize\")))\n",
    "    df_preprocess_lower = df_preprocess_punctuation.withColumn(f\"{suf}_lower\", to_lowercase(col(f\"{suf}_punctuation\")))\n",
    "    df_preprocess_number = df_preprocess_lower.withColumn(f\"{suf}_number\", remove_numbers(col(f\"{suf}_lower\")))\n",
    "    df_preprocess_stopwords = df_preprocess_number.withColumn(f\"{suf}_stopwords\", remove_stopwords(col(f\"{suf}_number\")))\n",
    "    df_preprocess_lemmatization = df_preprocess_stopwords.withColumn(f\"{suf}_lemmatization\", lemmatize_words(col(f\"{suf}_stopwords\")))\n",
    "    df_preprocessed = df_preprocess_lemmatization.withColumn(f\"{suf}_join\", join_words(col(f\"{suf}_lemmatization\")))\n",
    "    \n",
    "    end_time = time.time()\n",
    "    preprocess_time = end_time - start_time\n",
    "    return preprocess_time, df_preprocessed\n"
   ]
  },
  {
   "cell_type": "markdown",
   "id": "318102dd-0984-4f56-baa8-ae24311657ed",
   "metadata": {},
   "source": [
    "## review_summary preprocess"
   ]
  },
  {
   "cell_type": "code",
   "execution_count": 18,
   "id": "20605d89-5ab3-4e7d-ac41-a154436abdc7",
   "metadata": {},
   "outputs": [],
   "source": [
    "input_path = 'review_summary_preprocess.csv'\n",
    "df_drop.select('review_summary').write.csv(input_path, header=True, mode='overwrite')\n"
   ]
  },
  {
   "cell_type": "code",
   "execution_count": 19,
   "id": "05c9c33a-77eb-4978-94cc-bc4edafe0e88",
   "metadata": {},
   "outputs": [],
   "source": [
    "# Read the CSV file into DataFrame\n",
    "df_preprocess = spark.read.csv(input_path, header=True, inferSchema=True)"
   ]
  },
  {
   "cell_type": "code",
   "execution_count": 20,
   "id": "bc4bd462-28fd-47c6-904b-52bdde9edec2",
   "metadata": {},
   "outputs": [
    {
     "name": "stdout",
     "output_type": "stream",
     "text": [
      "Time taken: 0.17024946212768555 seconds\n"
     ]
    }
   ],
   "source": [
    "suf = \"review_summary\"\n",
    "preprocess_time, df_preprocessed = preprocess_data(df_preprocess, suf)\n",
    "print(\"Time taken:\", preprocess_time, \"seconds\")\n",
    "# df_preprocessed.show(5)"
   ]
  },
  {
   "cell_type": "code",
   "execution_count": 21,
   "id": "bef51379-3287-43b9-9d2b-611a05e0a5b6",
   "metadata": {
    "editable": true,
    "slideshow": {
     "slide_type": ""
    },
    "tags": []
   },
   "outputs": [
    {
     "name": "stdout",
     "output_type": "stream",
     "text": [
      "+--------------------+--------------------+\n",
      "|      review_summary| review_summary_join|\n",
      "+--------------------+--------------------+\n",
      "|I just love this ...|         love movie |\n",
      "|So sad, but oh-so...|       sad  ohsotrue|\n",
      "|A smart, dark, so...|smart  dark  soci...|\n",
      "|When I Viewed thi...|viewed movie blow...|\n",
      "|            my ideas|                idea|\n",
      "+--------------------+--------------------+\n",
      "only showing top 5 rows\n",
      "\n"
     ]
    }
   ],
   "source": [
    "df_preprocessed.select('review_summary', 'review_summary_join').show(5)"
   ]
  },
  {
   "cell_type": "markdown",
   "id": "96555379-413c-4c26-947a-247849546548",
   "metadata": {},
   "source": [
    "## movie_detail preprocess"
   ]
  },
  {
   "cell_type": "code",
   "execution_count": 22,
   "id": "8ebd9029-26ad-42c9-86ed-bd40958ac4a4",
   "metadata": {},
   "outputs": [],
   "source": [
    "input_path = 'review_detail_preprocess.csv'\n",
    "df_drop.select('review_detail').write.csv(input_path, header=True, mode='overwrite')"
   ]
  },
  {
   "cell_type": "code",
   "execution_count": 23,
   "id": "8881d7c9-6349-49cd-93d9-213be9860fce",
   "metadata": {},
   "outputs": [],
   "source": [
    "# Read the CSV file into DataFrame\n",
    "df_preprocess_review = spark.read.csv(input_path, header=True, inferSchema=True)"
   ]
  },
  {
   "cell_type": "code",
   "execution_count": null,
   "id": "3f391102-e189-463d-ace4-a446279f4ace",
   "metadata": {},
   "outputs": [],
   "source": [
    "suf = \"review_detail\"\n",
    "preprocess_time, df_preprocess_review = preprocess_data(df_preprocess_review, suf)\n",
    "print(\"Time taken:\", preprocess_time, \"seconds\")\n",
    "df_preprocessed.show(5)"
   ]
  },
  {
   "cell_type": "code",
   "execution_count": null,
   "id": "0dccc036-d00b-4505-960e-50bb623809fb",
   "metadata": {
    "scrolled": true
   },
   "outputs": [],
   "source": [
    "df_preprocess_review.select('review_detail', 'review_detail_join').show(5)"
   ]
  },
  {
   "cell_type": "code",
   "execution_count": null,
   "id": "57aeb6a6-c384-4cc7-b408-efab72a8bed9",
   "metadata": {},
   "outputs": [],
   "source": []
  },
  {
   "cell_type": "code",
   "execution_count": null,
   "id": "4ab323d0-eba9-42d3-8a7a-bdb9eaf48660",
   "metadata": {},
   "outputs": [],
   "source": []
  },
  {
   "cell_type": "code",
   "execution_count": null,
   "id": "87edc006-1ed6-4d01-bef7-75228b650ae1",
   "metadata": {},
   "outputs": [],
   "source": []
  },
  {
   "cell_type": "markdown",
   "id": "82742de1-0e4e-432d-842b-593a4927c5d1",
   "metadata": {},
   "source": [
    "# Logistic Regression"
   ]
  },
  {
   "cell_type": "code",
   "execution_count": 26,
   "id": "1b1fc910-63e2-48d3-a78d-9272a3af938f",
   "metadata": {},
   "outputs": [
    {
     "ename": "Py4JJavaError",
     "evalue": "An error occurred while calling o244.fit.\n: org.apache.spark.SparkException: Input column ratingboolpos does not exist.\n\tat org.apache.spark.ml.feature.StringIndexerBase.$anonfun$validateAndTransformSchema$2(StringIndexer.scala:128)\n\tat scala.collection.TraversableLike.$anonfun$flatMap$1(TraversableLike.scala:293)\n\tat scala.collection.IndexedSeqOptimized.foreach(IndexedSeqOptimized.scala:36)\n\tat scala.collection.IndexedSeqOptimized.foreach$(IndexedSeqOptimized.scala:33)\n\tat scala.collection.mutable.ArrayOps$ofRef.foreach(ArrayOps.scala:198)\n\tat scala.collection.TraversableLike.flatMap(TraversableLike.scala:293)\n\tat scala.collection.TraversableLike.flatMap$(TraversableLike.scala:290)\n\tat scala.collection.mutable.ArrayOps$ofRef.flatMap(ArrayOps.scala:198)\n\tat org.apache.spark.ml.feature.StringIndexerBase.validateAndTransformSchema(StringIndexer.scala:123)\n\tat org.apache.spark.ml.feature.StringIndexerBase.validateAndTransformSchema$(StringIndexer.scala:115)\n\tat org.apache.spark.ml.feature.StringIndexer.validateAndTransformSchema(StringIndexer.scala:145)\n\tat org.apache.spark.ml.feature.StringIndexer.transformSchema(StringIndexer.scala:252)\n\tat org.apache.spark.ml.PipelineStage.transformSchema(Pipeline.scala:71)\n\tat org.apache.spark.ml.feature.StringIndexer.fit(StringIndexer.scala:237)\n\tat java.base/jdk.internal.reflect.NativeMethodAccessorImpl.invoke0(Native Method)\n\tat java.base/jdk.internal.reflect.NativeMethodAccessorImpl.invoke(NativeMethodAccessorImpl.java:77)\n\tat java.base/jdk.internal.reflect.DelegatingMethodAccessorImpl.invoke(DelegatingMethodAccessorImpl.java:43)\n\tat java.base/java.lang.reflect.Method.invoke(Method.java:568)\n\tat py4j.reflection.MethodInvoker.invoke(MethodInvoker.java:244)\n\tat py4j.reflection.ReflectionEngine.invoke(ReflectionEngine.java:374)\n\tat py4j.Gateway.invoke(Gateway.java:282)\n\tat py4j.commands.AbstractCommand.invokeMethod(AbstractCommand.java:132)\n\tat py4j.commands.CallCommand.execute(CallCommand.java:79)\n\tat py4j.ClientServerConnection.waitForCommands(ClientServerConnection.java:182)\n\tat py4j.ClientServerConnection.run(ClientServerConnection.java:106)\n\tat java.base/java.lang.Thread.run(Thread.java:833)\n",
     "output_type": "error",
     "traceback": [
      "\u001b[0;31m---------------------------------------------------------------------------\u001b[0m",
      "\u001b[0;31mPy4JJavaError\u001b[0m                             Traceback (most recent call last)",
      "Cell \u001b[0;32mIn[26], line 29\u001b[0m\n\u001b[1;32m     26\u001b[0m train_data, test_data \u001b[38;5;241m=\u001b[39m df_preprocessed\u001b[38;5;241m.\u001b[39mrandomSplit([\u001b[38;5;241m0.8\u001b[39m, \u001b[38;5;241m0.2\u001b[39m], seed\u001b[38;5;241m=\u001b[39m\u001b[38;5;241m42\u001b[39m)\n\u001b[1;32m     28\u001b[0m \u001b[38;5;66;03m# Fit the pipeline to the training data\u001b[39;00m\n\u001b[0;32m---> 29\u001b[0m model \u001b[38;5;241m=\u001b[39m \u001b[43mpipeline\u001b[49m\u001b[38;5;241;43m.\u001b[39;49m\u001b[43mfit\u001b[49m\u001b[43m(\u001b[49m\u001b[43mtrain_data\u001b[49m\u001b[43m)\u001b[49m\n\u001b[1;32m     31\u001b[0m \u001b[38;5;66;03m# Make predictions on the test data\u001b[39;00m\n\u001b[1;32m     32\u001b[0m predictions \u001b[38;5;241m=\u001b[39m model\u001b[38;5;241m.\u001b[39mtransform(test_data)\n",
      "File \u001b[0;32m/usr/local/spark/python/pyspark/ml/base.py:205\u001b[0m, in \u001b[0;36mEstimator.fit\u001b[0;34m(self, dataset, params)\u001b[0m\n\u001b[1;32m    203\u001b[0m         \u001b[38;5;28;01mreturn\u001b[39;00m \u001b[38;5;28mself\u001b[39m\u001b[38;5;241m.\u001b[39mcopy(params)\u001b[38;5;241m.\u001b[39m_fit(dataset)\n\u001b[1;32m    204\u001b[0m     \u001b[38;5;28;01melse\u001b[39;00m:\n\u001b[0;32m--> 205\u001b[0m         \u001b[38;5;28;01mreturn\u001b[39;00m \u001b[38;5;28;43mself\u001b[39;49m\u001b[38;5;241;43m.\u001b[39;49m\u001b[43m_fit\u001b[49m\u001b[43m(\u001b[49m\u001b[43mdataset\u001b[49m\u001b[43m)\u001b[49m\n\u001b[1;32m    206\u001b[0m \u001b[38;5;28;01melse\u001b[39;00m:\n\u001b[1;32m    207\u001b[0m     \u001b[38;5;28;01mraise\u001b[39;00m \u001b[38;5;167;01mTypeError\u001b[39;00m(\n\u001b[1;32m    208\u001b[0m         \u001b[38;5;124m\"\u001b[39m\u001b[38;5;124mParams must be either a param map or a list/tuple of param maps, \u001b[39m\u001b[38;5;124m\"\u001b[39m\n\u001b[1;32m    209\u001b[0m         \u001b[38;5;124m\"\u001b[39m\u001b[38;5;124mbut got \u001b[39m\u001b[38;5;132;01m%s\u001b[39;00m\u001b[38;5;124m.\u001b[39m\u001b[38;5;124m\"\u001b[39m \u001b[38;5;241m%\u001b[39m \u001b[38;5;28mtype\u001b[39m(params)\n\u001b[1;32m    210\u001b[0m     )\n",
      "File \u001b[0;32m/usr/local/spark/python/pyspark/ml/pipeline.py:134\u001b[0m, in \u001b[0;36mPipeline._fit\u001b[0;34m(self, dataset)\u001b[0m\n\u001b[1;32m    132\u001b[0m     dataset \u001b[38;5;241m=\u001b[39m stage\u001b[38;5;241m.\u001b[39mtransform(dataset)\n\u001b[1;32m    133\u001b[0m \u001b[38;5;28;01melse\u001b[39;00m:  \u001b[38;5;66;03m# must be an Estimator\u001b[39;00m\n\u001b[0;32m--> 134\u001b[0m     model \u001b[38;5;241m=\u001b[39m \u001b[43mstage\u001b[49m\u001b[38;5;241;43m.\u001b[39;49m\u001b[43mfit\u001b[49m\u001b[43m(\u001b[49m\u001b[43mdataset\u001b[49m\u001b[43m)\u001b[49m\n\u001b[1;32m    135\u001b[0m     transformers\u001b[38;5;241m.\u001b[39mappend(model)\n\u001b[1;32m    136\u001b[0m     \u001b[38;5;28;01mif\u001b[39;00m i \u001b[38;5;241m<\u001b[39m indexOfLastEstimator:\n",
      "File \u001b[0;32m/usr/local/spark/python/pyspark/ml/base.py:205\u001b[0m, in \u001b[0;36mEstimator.fit\u001b[0;34m(self, dataset, params)\u001b[0m\n\u001b[1;32m    203\u001b[0m         \u001b[38;5;28;01mreturn\u001b[39;00m \u001b[38;5;28mself\u001b[39m\u001b[38;5;241m.\u001b[39mcopy(params)\u001b[38;5;241m.\u001b[39m_fit(dataset)\n\u001b[1;32m    204\u001b[0m     \u001b[38;5;28;01melse\u001b[39;00m:\n\u001b[0;32m--> 205\u001b[0m         \u001b[38;5;28;01mreturn\u001b[39;00m \u001b[38;5;28;43mself\u001b[39;49m\u001b[38;5;241;43m.\u001b[39;49m\u001b[43m_fit\u001b[49m\u001b[43m(\u001b[49m\u001b[43mdataset\u001b[49m\u001b[43m)\u001b[49m\n\u001b[1;32m    206\u001b[0m \u001b[38;5;28;01melse\u001b[39;00m:\n\u001b[1;32m    207\u001b[0m     \u001b[38;5;28;01mraise\u001b[39;00m \u001b[38;5;167;01mTypeError\u001b[39;00m(\n\u001b[1;32m    208\u001b[0m         \u001b[38;5;124m\"\u001b[39m\u001b[38;5;124mParams must be either a param map or a list/tuple of param maps, \u001b[39m\u001b[38;5;124m\"\u001b[39m\n\u001b[1;32m    209\u001b[0m         \u001b[38;5;124m\"\u001b[39m\u001b[38;5;124mbut got \u001b[39m\u001b[38;5;132;01m%s\u001b[39;00m\u001b[38;5;124m.\u001b[39m\u001b[38;5;124m\"\u001b[39m \u001b[38;5;241m%\u001b[39m \u001b[38;5;28mtype\u001b[39m(params)\n\u001b[1;32m    210\u001b[0m     )\n",
      "File \u001b[0;32m/usr/local/spark/python/pyspark/ml/wrapper.py:381\u001b[0m, in \u001b[0;36mJavaEstimator._fit\u001b[0;34m(self, dataset)\u001b[0m\n\u001b[1;32m    380\u001b[0m \u001b[38;5;28;01mdef\u001b[39;00m \u001b[38;5;21m_fit\u001b[39m(\u001b[38;5;28mself\u001b[39m, dataset: DataFrame) \u001b[38;5;241m-\u001b[39m\u001b[38;5;241m>\u001b[39m JM:\n\u001b[0;32m--> 381\u001b[0m     java_model \u001b[38;5;241m=\u001b[39m \u001b[38;5;28;43mself\u001b[39;49m\u001b[38;5;241;43m.\u001b[39;49m\u001b[43m_fit_java\u001b[49m\u001b[43m(\u001b[49m\u001b[43mdataset\u001b[49m\u001b[43m)\u001b[49m\n\u001b[1;32m    382\u001b[0m     model \u001b[38;5;241m=\u001b[39m \u001b[38;5;28mself\u001b[39m\u001b[38;5;241m.\u001b[39m_create_model(java_model)\n\u001b[1;32m    383\u001b[0m     \u001b[38;5;28;01mreturn\u001b[39;00m \u001b[38;5;28mself\u001b[39m\u001b[38;5;241m.\u001b[39m_copyValues(model)\n",
      "File \u001b[0;32m/usr/local/spark/python/pyspark/ml/wrapper.py:378\u001b[0m, in \u001b[0;36mJavaEstimator._fit_java\u001b[0;34m(self, dataset)\u001b[0m\n\u001b[1;32m    375\u001b[0m \u001b[38;5;28;01massert\u001b[39;00m \u001b[38;5;28mself\u001b[39m\u001b[38;5;241m.\u001b[39m_java_obj \u001b[38;5;129;01mis\u001b[39;00m \u001b[38;5;129;01mnot\u001b[39;00m \u001b[38;5;28;01mNone\u001b[39;00m\n\u001b[1;32m    377\u001b[0m \u001b[38;5;28mself\u001b[39m\u001b[38;5;241m.\u001b[39m_transfer_params_to_java()\n\u001b[0;32m--> 378\u001b[0m \u001b[38;5;28;01mreturn\u001b[39;00m \u001b[38;5;28;43mself\u001b[39;49m\u001b[38;5;241;43m.\u001b[39;49m\u001b[43m_java_obj\u001b[49m\u001b[38;5;241;43m.\u001b[39;49m\u001b[43mfit\u001b[49m\u001b[43m(\u001b[49m\u001b[43mdataset\u001b[49m\u001b[38;5;241;43m.\u001b[39;49m\u001b[43m_jdf\u001b[49m\u001b[43m)\u001b[49m\n",
      "File \u001b[0;32m/usr/local/spark/python/lib/py4j-0.10.9.7-src.zip/py4j/java_gateway.py:1322\u001b[0m, in \u001b[0;36mJavaMember.__call__\u001b[0;34m(self, *args)\u001b[0m\n\u001b[1;32m   1316\u001b[0m command \u001b[38;5;241m=\u001b[39m proto\u001b[38;5;241m.\u001b[39mCALL_COMMAND_NAME \u001b[38;5;241m+\u001b[39m\\\n\u001b[1;32m   1317\u001b[0m     \u001b[38;5;28mself\u001b[39m\u001b[38;5;241m.\u001b[39mcommand_header \u001b[38;5;241m+\u001b[39m\\\n\u001b[1;32m   1318\u001b[0m     args_command \u001b[38;5;241m+\u001b[39m\\\n\u001b[1;32m   1319\u001b[0m     proto\u001b[38;5;241m.\u001b[39mEND_COMMAND_PART\n\u001b[1;32m   1321\u001b[0m answer \u001b[38;5;241m=\u001b[39m \u001b[38;5;28mself\u001b[39m\u001b[38;5;241m.\u001b[39mgateway_client\u001b[38;5;241m.\u001b[39msend_command(command)\n\u001b[0;32m-> 1322\u001b[0m return_value \u001b[38;5;241m=\u001b[39m \u001b[43mget_return_value\u001b[49m\u001b[43m(\u001b[49m\n\u001b[1;32m   1323\u001b[0m \u001b[43m    \u001b[49m\u001b[43manswer\u001b[49m\u001b[43m,\u001b[49m\u001b[43m \u001b[49m\u001b[38;5;28;43mself\u001b[39;49m\u001b[38;5;241;43m.\u001b[39;49m\u001b[43mgateway_client\u001b[49m\u001b[43m,\u001b[49m\u001b[43m \u001b[49m\u001b[38;5;28;43mself\u001b[39;49m\u001b[38;5;241;43m.\u001b[39;49m\u001b[43mtarget_id\u001b[49m\u001b[43m,\u001b[49m\u001b[43m \u001b[49m\u001b[38;5;28;43mself\u001b[39;49m\u001b[38;5;241;43m.\u001b[39;49m\u001b[43mname\u001b[49m\u001b[43m)\u001b[49m\n\u001b[1;32m   1325\u001b[0m \u001b[38;5;28;01mfor\u001b[39;00m temp_arg \u001b[38;5;129;01min\u001b[39;00m temp_args:\n\u001b[1;32m   1326\u001b[0m     \u001b[38;5;28;01mif\u001b[39;00m \u001b[38;5;28mhasattr\u001b[39m(temp_arg, \u001b[38;5;124m\"\u001b[39m\u001b[38;5;124m_detach\u001b[39m\u001b[38;5;124m\"\u001b[39m):\n",
      "File \u001b[0;32m/usr/local/spark/python/pyspark/errors/exceptions/captured.py:179\u001b[0m, in \u001b[0;36mcapture_sql_exception.<locals>.deco\u001b[0;34m(*a, **kw)\u001b[0m\n\u001b[1;32m    177\u001b[0m \u001b[38;5;28;01mdef\u001b[39;00m \u001b[38;5;21mdeco\u001b[39m(\u001b[38;5;241m*\u001b[39ma: Any, \u001b[38;5;241m*\u001b[39m\u001b[38;5;241m*\u001b[39mkw: Any) \u001b[38;5;241m-\u001b[39m\u001b[38;5;241m>\u001b[39m Any:\n\u001b[1;32m    178\u001b[0m     \u001b[38;5;28;01mtry\u001b[39;00m:\n\u001b[0;32m--> 179\u001b[0m         \u001b[38;5;28;01mreturn\u001b[39;00m \u001b[43mf\u001b[49m\u001b[43m(\u001b[49m\u001b[38;5;241;43m*\u001b[39;49m\u001b[43ma\u001b[49m\u001b[43m,\u001b[49m\u001b[43m \u001b[49m\u001b[38;5;241;43m*\u001b[39;49m\u001b[38;5;241;43m*\u001b[39;49m\u001b[43mkw\u001b[49m\u001b[43m)\u001b[49m\n\u001b[1;32m    180\u001b[0m     \u001b[38;5;28;01mexcept\u001b[39;00m Py4JJavaError \u001b[38;5;28;01mas\u001b[39;00m e:\n\u001b[1;32m    181\u001b[0m         converted \u001b[38;5;241m=\u001b[39m convert_exception(e\u001b[38;5;241m.\u001b[39mjava_exception)\n",
      "File \u001b[0;32m/usr/local/spark/python/lib/py4j-0.10.9.7-src.zip/py4j/protocol.py:326\u001b[0m, in \u001b[0;36mget_return_value\u001b[0;34m(answer, gateway_client, target_id, name)\u001b[0m\n\u001b[1;32m    324\u001b[0m value \u001b[38;5;241m=\u001b[39m OUTPUT_CONVERTER[\u001b[38;5;28mtype\u001b[39m](answer[\u001b[38;5;241m2\u001b[39m:], gateway_client)\n\u001b[1;32m    325\u001b[0m \u001b[38;5;28;01mif\u001b[39;00m answer[\u001b[38;5;241m1\u001b[39m] \u001b[38;5;241m==\u001b[39m REFERENCE_TYPE:\n\u001b[0;32m--> 326\u001b[0m     \u001b[38;5;28;01mraise\u001b[39;00m Py4JJavaError(\n\u001b[1;32m    327\u001b[0m         \u001b[38;5;124m\"\u001b[39m\u001b[38;5;124mAn error occurred while calling \u001b[39m\u001b[38;5;132;01m{0}\u001b[39;00m\u001b[38;5;132;01m{1}\u001b[39;00m\u001b[38;5;132;01m{2}\u001b[39;00m\u001b[38;5;124m.\u001b[39m\u001b[38;5;130;01m\\n\u001b[39;00m\u001b[38;5;124m\"\u001b[39m\u001b[38;5;241m.\u001b[39m\n\u001b[1;32m    328\u001b[0m         \u001b[38;5;28mformat\u001b[39m(target_id, \u001b[38;5;124m\"\u001b[39m\u001b[38;5;124m.\u001b[39m\u001b[38;5;124m\"\u001b[39m, name), value)\n\u001b[1;32m    329\u001b[0m \u001b[38;5;28;01melse\u001b[39;00m:\n\u001b[1;32m    330\u001b[0m     \u001b[38;5;28;01mraise\u001b[39;00m Py4JError(\n\u001b[1;32m    331\u001b[0m         \u001b[38;5;124m\"\u001b[39m\u001b[38;5;124mAn error occurred while calling \u001b[39m\u001b[38;5;132;01m{0}\u001b[39;00m\u001b[38;5;132;01m{1}\u001b[39;00m\u001b[38;5;132;01m{2}\u001b[39;00m\u001b[38;5;124m. Trace:\u001b[39m\u001b[38;5;130;01m\\n\u001b[39;00m\u001b[38;5;132;01m{3}\u001b[39;00m\u001b[38;5;130;01m\\n\u001b[39;00m\u001b[38;5;124m\"\u001b[39m\u001b[38;5;241m.\u001b[39m\n\u001b[1;32m    332\u001b[0m         \u001b[38;5;28mformat\u001b[39m(target_id, \u001b[38;5;124m\"\u001b[39m\u001b[38;5;124m.\u001b[39m\u001b[38;5;124m\"\u001b[39m, name, value))\n",
      "\u001b[0;31mPy4JJavaError\u001b[0m: An error occurred while calling o244.fit.\n: org.apache.spark.SparkException: Input column ratingboolpos does not exist.\n\tat org.apache.spark.ml.feature.StringIndexerBase.$anonfun$validateAndTransformSchema$2(StringIndexer.scala:128)\n\tat scala.collection.TraversableLike.$anonfun$flatMap$1(TraversableLike.scala:293)\n\tat scala.collection.IndexedSeqOptimized.foreach(IndexedSeqOptimized.scala:36)\n\tat scala.collection.IndexedSeqOptimized.foreach$(IndexedSeqOptimized.scala:33)\n\tat scala.collection.mutable.ArrayOps$ofRef.foreach(ArrayOps.scala:198)\n\tat scala.collection.TraversableLike.flatMap(TraversableLike.scala:293)\n\tat scala.collection.TraversableLike.flatMap$(TraversableLike.scala:290)\n\tat scala.collection.mutable.ArrayOps$ofRef.flatMap(ArrayOps.scala:198)\n\tat org.apache.spark.ml.feature.StringIndexerBase.validateAndTransformSchema(StringIndexer.scala:123)\n\tat org.apache.spark.ml.feature.StringIndexerBase.validateAndTransformSchema$(StringIndexer.scala:115)\n\tat org.apache.spark.ml.feature.StringIndexer.validateAndTransformSchema(StringIndexer.scala:145)\n\tat org.apache.spark.ml.feature.StringIndexer.transformSchema(StringIndexer.scala:252)\n\tat org.apache.spark.ml.PipelineStage.transformSchema(Pipeline.scala:71)\n\tat org.apache.spark.ml.feature.StringIndexer.fit(StringIndexer.scala:237)\n\tat java.base/jdk.internal.reflect.NativeMethodAccessorImpl.invoke0(Native Method)\n\tat java.base/jdk.internal.reflect.NativeMethodAccessorImpl.invoke(NativeMethodAccessorImpl.java:77)\n\tat java.base/jdk.internal.reflect.DelegatingMethodAccessorImpl.invoke(DelegatingMethodAccessorImpl.java:43)\n\tat java.base/java.lang.reflect.Method.invoke(Method.java:568)\n\tat py4j.reflection.MethodInvoker.invoke(MethodInvoker.java:244)\n\tat py4j.reflection.ReflectionEngine.invoke(ReflectionEngine.java:374)\n\tat py4j.Gateway.invoke(Gateway.java:282)\n\tat py4j.commands.AbstractCommand.invokeMethod(AbstractCommand.java:132)\n\tat py4j.commands.CallCommand.execute(CallCommand.java:79)\n\tat py4j.ClientServerConnection.waitForCommands(ClientServerConnection.java:182)\n\tat py4j.ClientServerConnection.run(ClientServerConnection.java:106)\n\tat java.base/java.lang.Thread.run(Thread.java:833)\n"
     ]
    }
   ],
   "source": [
    "import time\n",
    "from pyspark.ml.feature import Tokenizer, StopWordsRemover, CountVectorizer, IDF, StringIndexer\n",
    "from pyspark.ml.classification import LogisticRegression\n",
    "from pyspark.ml import Pipeline\n",
    "from pyspark.ml.evaluation import MulticlassClassificationEvaluator\n",
    "\n",
    "# Start the timer\n",
    "start_time = time.time()\n",
    "\n",
    "# Convert 'review_summary_join' into TF-IDF features\n",
    "tokenizer = Tokenizer(inputCol=\"review_summary_join\", outputCol=\"words\")\n",
    "remover = StopWordsRemover(inputCol=\"words\", outputCol=\"filtered\")\n",
    "vectorizer = CountVectorizer(inputCol=\"filtered\", outputCol=\"rawFeatures\")\n",
    "idf = IDF(inputCol=\"rawFeatures\", outputCol=\"features\")\n",
    "\n",
    "# Index the target column\n",
    "indexer = StringIndexer(inputCol=\"ratingboolpos\", outputCol=\"label\")\n",
    "\n",
    "# Logistic Regression model\n",
    "lr = LogisticRegression(featuresCol=\"features\", labelCol=\"label\")\n",
    "\n",
    "# Pipeline to streamline the process\n",
    "pipeline = Pipeline(stages=[tokenizer, remover, vectorizer, idf, indexer, lr])\n",
    "\n",
    "# Split the data into training and test sets\n",
    "train_data, test_data = df_preprocessed.randomSplit([0.8, 0.2], seed=42)\n",
    "\n",
    "# Fit the pipeline to the training data\n",
    "model = pipeline.fit(train_data)\n",
    "\n",
    "# Make predictions on the test data\n",
    "predictions = model.transform(test_data)\n",
    "\n",
    "# Evaluate the model\n",
    "evaluator = MulticlassClassificationEvaluator(labelCol=\"label\", predictionCol=\"prediction\", metricName=\"accuracy\")\n",
    "accuracy = evaluator.evaluate(predictions)\n",
    "print(\"Test set accuracy = \" + str(accuracy))\n",
    "\n",
    "# Show some of the predictions\n",
    "predictions.select(\"review_summary\", \"label\", \"prediction\", \"probability\").show(5)\n",
    "\n",
    "# Stop the timer and calculate the elapsed time\n",
    "end_time = time.time()\n",
    "elapsed_time = end_time - start_time\n",
    "print(\"Time taken for sentiment analysis: {:.2f} seconds\".format(elapsed_time))\n"
   ]
  },
  {
   "cell_type": "code",
   "execution_count": null,
   "id": "67d83f74-b586-48e9-a38a-7a83a28dfed6",
   "metadata": {},
   "outputs": [],
   "source": []
  }
 ],
 "metadata": {
  "kernelspec": {
   "display_name": "Python 3 (ipykernel)",
   "language": "python",
   "name": "python3"
  },
  "language_info": {
   "codemirror_mode": {
    "name": "ipython",
    "version": 3
   },
   "file_extension": ".py",
   "mimetype": "text/x-python",
   "name": "python",
   "nbconvert_exporter": "python",
   "pygments_lexer": "ipython3",
   "version": "3.11.6"
  }
 },
 "nbformat": 4,
 "nbformat_minor": 5
}
